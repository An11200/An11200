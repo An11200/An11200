{
  "nbformat": 4,
  "nbformat_minor": 0,
  "metadata": {
    "colab": {
      "name": "WeatherPrediction.ipynb",
      "provenance": [],
      "toc_visible": true,
      "authorship_tag": "ABX9TyMNDsl7bome42JMU8yvhjue",
      "include_colab_link": true
    },
    "kernelspec": {
      "name": "python3",
      "display_name": "Python 3"
    },
    "language_info": {
      "name": "python"
    }
  },
  "cells": [
    {
      "cell_type": "markdown",
      "metadata": {
        "id": "view-in-github",
        "colab_type": "text"
      },
      "source": [
        "<a href=\"https://colab.research.google.com/github/An11200/An11200/blob/main/WeatherPrediction.ipynb\" target=\"_parent\"><img src=\"https://colab.research.google.com/assets/colab-badge.svg\" alt=\"Open In Colab\"/></a>"
      ]
    },
    {
      "cell_type": "code",
      "execution_count": null,
      "metadata": {
        "id": "4cp4LXbcjjJ7"
      },
      "outputs": [],
      "source": [
        "import pandas as pd\n",
        "import matplotlib.pyplot as plt\n",
        "import numpy as np"
      ]
    },
    {
      "cell_type": "code",
      "source": [
        "data = pd.read_csv('austin_weather.csv')"
      ],
      "metadata": {
        "id": "GRmP76Gektcs"
      },
      "execution_count": null,
      "outputs": []
    },
    {
      "cell_type": "code",
      "source": [
        "data = data.replace('-',0.0)\n",
        "data = data.replace('T',0.0)"
      ],
      "metadata": {
        "id": "kZv9ElPblNf6"
      },
      "execution_count": null,
      "outputs": []
    },
    {
      "cell_type": "code",
      "source": [
        "data = data.drop(['Events', 'Date', 'SeaLevelPressureHighInches', 'SeaLevelPressureLowInches'], axis = 1)"
      ],
      "metadata": {
        "id": "ciO4a8LilkOk"
      },
      "execution_count": null,
      "outputs": []
    },
    {
      "cell_type": "code",
      "source": [
        "data.to_csv('austin_final.csv')"
      ],
      "metadata": {
        "id": "KKdWOTjMl5b1"
      },
      "execution_count": null,
      "outputs": []
    },
    {
      "cell_type": "code",
      "source": [
        "X = data.drop(['PrecipitationSumInches'], axis = 1)\n",
        "Y = data['PrecipitationSumInches']\n",
        "Y = Y.values.reshape(-1, 1)"
      ],
      "metadata": {
        "id": "7mx_S5vzoDN-"
      },
      "execution_count": null,
      "outputs": []
    },
    {
      "cell_type": "code",
      "source": [
        "from sklearn.model_selection import train_test_split\n",
        "x_train, x_test, y_train, y_test =     \\\n",
        "train_test_split (X, Y, test_size = 0.3, random_state=1234)"
      ],
      "metadata": {
        "id": "TAfLuwDtn5dy"
      },
      "execution_count": null,
      "outputs": []
    },
    {
      "cell_type": "code",
      "source": [
        "from sklearn.linear_model import LinearRegression\n",
        "std_reg = LinearRegression()\n",
        "std_reg.fit(x_train, y_train)"
      ],
      "metadata": {
        "colab": {
          "base_uri": "https://localhost:8080/"
        },
        "id": "KAKHJLRan4A0",
        "outputId": "07412df0-6ae3-4339-b224-adb64b044d5e"
      },
      "execution_count": null,
      "outputs": [
        {
          "output_type": "execute_result",
          "data": {
            "text/plain": [
              "LinearRegression()"
            ]
          },
          "metadata": {},
          "execution_count": 17
        }
      ]
    },
    {
      "cell_type": "code",
      "source": [
        "y_predict = std_reg.predict(x_test)\n"
      ],
      "metadata": {
        "id": "DXpI-eIDoyUx"
      },
      "execution_count": null,
      "outputs": []
    },
    {
      "cell_type": "code",
      "source": [
        "slr_score = std_reg.score(x_test, y_test)"
      ],
      "metadata": {
        "id": "w9OzBa17pQYA"
      },
      "execution_count": null,
      "outputs": []
    }
  ]
}