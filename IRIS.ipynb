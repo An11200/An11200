{
  "nbformat": 4,
  "nbformat_minor": 0,
  "metadata": {
    "colab": {
      "name": "IRIS.ipynb",
      "provenance": [],
      "authorship_tag": "ABX9TyNrBURfmkzg6RoDldguPub7",
      "include_colab_link": true
    },
    "kernelspec": {
      "name": "python3",
      "display_name": "Python 3"
    },
    "language_info": {
      "name": "python"
    }
  },
  "cells": [
    {
      "cell_type": "markdown",
      "metadata": {
        "id": "view-in-github",
        "colab_type": "text"
      },
      "source": [
        "<a href=\"https://colab.research.google.com/github/An11200/An11200/blob/main/IRIS.ipynb\" target=\"_parent\"><img src=\"https://colab.research.google.com/assets/colab-badge.svg\" alt=\"Open In Colab\"/></a>"
      ]
    },
    {
      "cell_type": "code",
      "execution_count": null,
      "metadata": {
        "id": "wvzqwfaCBZWH"
      },
      "outputs": [],
      "source": [
        "from sklearn import datasets\n",
        "iris = datasets.load_iris()"
      ]
    },
    {
      "cell_type": "code",
      "source": [
        "X=iris.data\n",
        "Y=iris.target"
      ],
      "metadata": {
        "id": "KqdIi6t5B3N5"
      },
      "execution_count": null,
      "outputs": []
    },
    {
      "cell_type": "code",
      "source": [
        "from sklearn.model_selection import train_test_split\n",
        "X_train, X_test, Y_train, Y_test = train_test_split(X,Y,test_size=0.3,random_state=1234)"
      ],
      "metadata": {
        "id": "SKBbd2DIB-Ed"
      },
      "execution_count": null,
      "outputs": []
    },
    {
      "cell_type": "code",
      "source": [
        "from sklearn.svm import SVC\n",
        "from sklearn.metrics import confusion_matrix\n",
        "\n",
        "svc=SVC(kernel='rbf',gamma=0.1)\n",
        "svc.fit(X_train,Y_train)\n",
        "\n",
        "Y_predict = svc.predict(X_test)\n",
        "cmrbf = confusion_matrix(Y_test,Y_predict)"
      ],
      "metadata": {
        "id": "L0YdyPcTCV5V"
      },
      "execution_count": null,
      "outputs": []
    },
    {
      "cell_type": "code",
      "source": [
        "svc=SVC(kernel='rbf',gamma=0.01)\n",
        "svc.fit(X_train,Y_train)\n",
        "\n",
        "Y_predict = svc.predict(X_test)\n",
        "cmrbf = confusion_matrix(Y_test,Y_predict)"
      ],
      "metadata": {
        "id": "zL1GUP52Dlb4"
      },
      "execution_count": null,
      "outputs": []
    },
    {
      "cell_type": "code",
      "source": [
        "svc=SVC(kernel='linear')\n",
        "svc.fit(X_train,Y_train)\n",
        "\n",
        "Y_predict = svc.predict(X_test)\n",
        "cmrbf_linear = confusion_matrix(Y_test,Y_predict)"
      ],
      "metadata": {
        "id": "Dg_Y44Z2D7xS"
      },
      "execution_count": null,
      "outputs": []
    },
    {
      "cell_type": "code",
      "source": [
        "svc=SVC(kernel='poly')\n",
        "svc.fit(X_train,Y_train)\n",
        "\n",
        "Y_predict = svc.predict(X_test)\n",
        "cmrbf_poly = confusion_matrix(Y_test,Y_predict)"
      ],
      "metadata": {
        "id": "dxz1xv_XEDNN"
      },
      "execution_count": null,
      "outputs": []
    },
    {
      "cell_type": "code",
      "source": [
        "svc=SVC(kernel='sigmoid')\n",
        "svc.fit(X_train,Y_train)\n",
        "\n",
        "Y_predict = svc.predict(X_test)\n",
        "cmrbf_sig = confusion_matrix(Y_test,Y_predict)"
      ],
      "metadata": {
        "id": "T9BiauP3EJUA"
      },
      "execution_count": null,
      "outputs": []
    }
  ]
}